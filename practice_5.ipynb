{
 "cells": [
  {
   "cell_type": "markdown",
   "source": [
    "# Дисциплина: КМСС\n",
    "\n",
    "# Практика №5"
   ],
   "metadata": {
    "collapsed": false
   },
   "id": "3021e1fdb3b353e4"
  },
  {
   "cell_type": "markdown",
   "source": [
    "### Задание\n",
    "\n",
    "Напишите программы с использованием Python или C# для решения\n",
    "следующих задач."
   ],
   "metadata": {
    "collapsed": false
   },
   "id": "bf4f90ad7c458a16"
  },
  {
   "cell_type": "code",
   "execution_count": 1,
   "outputs": [],
   "source": [
    "import numpy as np\n",
    "\n",
    "from CMoCSm.SoLE.solvers import GaussianEliminator\n",
    "from CMoCSm.SoLE.solvers import SquaresMinimizer"
   ],
   "metadata": {
    "collapsed": false,
    "ExecuteTime": {
     "end_time": "2023-11-17T08:23:33.429521385Z",
     "start_time": "2023-11-17T08:23:33.390164822Z"
    }
   },
   "id": "b4c99574afb9b3b2"
  },
  {
   "cell_type": "markdown",
   "source": [
    "#### Задача 1\n",
    "\n",
    "Решить систему (1) линейных алгебраических уравнений методом Гаусса\n",
    "(схема единственного деления).\n",
    "\n",
    "$$ \\begin{equation} \\left\\{ \\begin{array}{}{}{} 2x_1 + x_2 + 4x_3 = 16; &\\\\ 3x_1 + 2x_2 + x_3 = 10; &\\\\ x_1 + 3x_2 + 3x_3 = 16. \\end{array} \\right. (1) \\end{equation} $$\n",
    "##### _Примечание_\n",
    "_Для решения этой задачи реализуем тот метод, который требуется использовать в следующей задачи. Ведь разница между ними в том, что настоящий метод подвержен `ZeroDevisionError`._"
   ],
   "metadata": {
    "collapsed": false
   },
   "id": "699ce19d71346507"
  },
  {
   "cell_type": "code",
   "execution_count": 2,
   "outputs": [],
   "source": [
    "matrix_a = np.array(\n",
    "    [\n",
    "        [2, 1, 4],\n",
    "        [3, 2, 1],\n",
    "        [1, 3, 3]\n",
    "    ]\n",
    ")\n",
    "matrix_b = np.array(\n",
    "    [\n",
    "        [16],\n",
    "        [10],\n",
    "        [16]\n",
    "    ]\n",
    ")"
   ],
   "metadata": {
    "collapsed": false,
    "ExecuteTime": {
     "end_time": "2023-11-17T08:23:33.555827838Z",
     "start_time": "2023-11-17T08:23:33.470491625Z"
    }
   },
   "id": "32ea521b7d0a015b"
  },
  {
   "cell_type": "code",
   "execution_count": 3,
   "outputs": [
    {
     "data": {
      "text/plain": "array([[1.],\n       [2.],\n       [3.]])"
     },
     "execution_count": 3,
     "metadata": {},
     "output_type": "execute_result"
    }
   ],
   "source": [
    "np.linalg.solve(matrix_a, matrix_b)"
   ],
   "metadata": {
    "collapsed": false,
    "ExecuteTime": {
     "end_time": "2023-11-17T08:23:33.651254793Z",
     "start_time": "2023-11-17T08:23:33.552867207Z"
    }
   },
   "id": "753c7e1636591e12"
  },
  {
   "cell_type": "markdown",
   "source": [
    "##### Альтернативное решение"
   ],
   "metadata": {
    "collapsed": false
   },
   "id": "39d6f52daa9722d3"
  },
  {
   "cell_type": "code",
   "execution_count": 4,
   "outputs": [
    {
     "data": {
      "text/plain": "array([[1.],\n       [2.],\n       [3.]])"
     },
     "execution_count": 4,
     "metadata": {},
     "output_type": "execute_result"
    }
   ],
   "source": [
    "gaussian_eliminator = GaussianEliminator()\n",
    "gaussian_eliminator.fit(matrix_a, matrix_b)\n",
    "gaussian_eliminator.solve(3)"
   ],
   "metadata": {
    "collapsed": false,
    "ExecuteTime": {
     "end_time": "2023-11-17T08:23:33.743821411Z",
     "start_time": "2023-11-17T08:23:33.649970580Z"
    }
   },
   "id": "736c6e13292186f1"
  },
  {
   "cell_type": "markdown",
   "source": [
    "#### Задача 2\n",
    "[Методом Гаусса с выбором ведущего элемента по столбцам](https://textbooks.math.gatech.edu/ila/row-reduction.html) решить систему (2).\n",
    "\n",
    "$$ \\begin{equation} \\left\\{ \\begin{array}{}{}{} -3x_1 + 2,099x_2 + 6x_3 = 3,901; &\\\\ 10x_1 - 7x_2 + 0x_3 = 7; &\\\\ 5x_1 - x_2 + 5x_3 = 6. \\end{array} \\right. (2) \\end{equation} $$"
   ],
   "metadata": {
    "collapsed": false
   },
   "id": "f68f9cb3b47bf857"
  },
  {
   "cell_type": "code",
   "execution_count": 5,
   "outputs": [],
   "source": [
    "matrix_a = np.array(\n",
    "    [\n",
    "        [-3, 2.099, 6],\n",
    "        [10, -7, 0],\n",
    "        [5, -1, 5]\n",
    "    ]\n",
    ")\n",
    "matrix_b = np.array(\n",
    "    [\n",
    "        [3.901],\n",
    "        [7],\n",
    "        [6]\n",
    "    ]\n",
    ")"
   ],
   "metadata": {
    "collapsed": false,
    "ExecuteTime": {
     "end_time": "2023-11-17T08:23:33.839336558Z",
     "start_time": "2023-11-17T08:23:33.786542608Z"
    }
   },
   "id": "aa16acfddd0adc9e"
  },
  {
   "cell_type": "code",
   "execution_count": 6,
   "outputs": [
    {
     "data": {
      "text/plain": "array([[ 0.],\n       [-1.],\n       [ 1.]])"
     },
     "execution_count": 6,
     "metadata": {},
     "output_type": "execute_result"
    }
   ],
   "source": [
    "np.linalg.solve(matrix_a, matrix_b)"
   ],
   "metadata": {
    "collapsed": false,
    "ExecuteTime": {
     "end_time": "2023-11-17T08:23:33.974787014Z",
     "start_time": "2023-11-17T08:23:33.839668721Z"
    }
   },
   "id": "2ddf52c7b9458d4f"
  },
  {
   "cell_type": "markdown",
   "source": [
    "##### Альтернативное решение"
   ],
   "metadata": {
    "collapsed": false
   },
   "id": "b2521b485738b566"
  },
  {
   "cell_type": "code",
   "execution_count": 7,
   "outputs": [
    {
     "data": {
      "text/plain": "array([[ 0.],\n       [-1.],\n       [ 1.]])"
     },
     "execution_count": 7,
     "metadata": {},
     "output_type": "execute_result"
    }
   ],
   "source": [
    "gaussian_eliminator = GaussianEliminator()\n",
    "gaussian_eliminator.fit(matrix_a, matrix_b)\n",
    "gaussian_eliminator.solve(3)"
   ],
   "metadata": {
    "collapsed": false,
    "ExecuteTime": {
     "end_time": "2023-11-17T08:23:34.033947039Z",
     "start_time": "2023-11-17T08:23:33.974616592Z"
    }
   },
   "id": "9abaa35b6cc64f09"
  },
  {
   "cell_type": "markdown",
   "source": [
    "#### Задача 3\n",
    "Решить систему уравнений (3) методом Гаусса единственного деления.\n",
    "\n",
    "$$ \\begin{equation} \\left\\{ \\begin{array}{}{}{} x_1 - x_2 + x_3 - 4x_4 = -2; &\\\\ 8x_1 - x_2 - x_3 + 2x_4 = 11; &\\\\ x_1 + 6x_2 - 2x_3 - 2x_4 = 6. \\end{array} \\right. (3) \\end{equation} $$\n",
    "\n",
    "##### Примечание\n",
    "_Намного проще реализовать [метод наименьших квадратов](https://textbooks.math.gatech.edu/ila/least-squares.html), который в своей основе имеет как раз метод исключения Гаусса с выбором ведущего элемента по столбцам. По этой причине воспользуемся методом наименьших квадратов._"
   ],
   "metadata": {
    "collapsed": false
   },
   "id": "9546141a511964da"
  },
  {
   "cell_type": "code",
   "execution_count": 8,
   "outputs": [],
   "source": [
    "matrix_a = np.array(\n",
    "    [\n",
    "        [1, -1, 1, 4],\n",
    "        [8, -1, -1, 2],\n",
    "        [1, 6, -2, -2]\n",
    "    ]\n",
    ")\n",
    "matrix_b = np.array(\n",
    "    [\n",
    "        [-2],\n",
    "        [11],\n",
    "        [-7]\n",
    "    ]\n",
    ")"
   ],
   "metadata": {
    "collapsed": false,
    "ExecuteTime": {
     "end_time": "2023-11-17T08:23:34.126678918Z",
     "start_time": "2023-11-17T08:23:34.031864888Z"
    }
   },
   "id": "181884f9e17cdd87"
  },
  {
   "cell_type": "code",
   "execution_count": 9,
   "outputs": [
    {
     "data": {
      "text/plain": "(array([[ 1.42946593],\n        [-1.9038674 ],\n        [-0.21804788],\n        [-1.27882136]]),\n array([], dtype=float64),\n 3,\n array([8.67440198, 7.07918966, 2.93935776]))"
     },
     "execution_count": 9,
     "metadata": {},
     "output_type": "execute_result"
    }
   ],
   "source": [
    "np.linalg.lstsq(matrix_a, matrix_b, rcond=None)"
   ],
   "metadata": {
    "collapsed": false,
    "ExecuteTime": {
     "end_time": "2023-11-17T08:23:34.543969367Z",
     "start_time": "2023-11-17T08:23:34.127085862Z"
    }
   },
   "id": "17f8aad3f5c781b8"
  },
  {
   "cell_type": "markdown",
   "source": [
    "##### Альтернативное решение"
   ],
   "metadata": {
    "collapsed": false
   },
   "id": "e9164ac5ab27bd16"
  },
  {
   "cell_type": "code",
   "execution_count": 10,
   "outputs": [
    {
     "data": {
      "text/plain": "array([[ 1.4047619 ],\n       [-1.92857143],\n       [-0.33333333],\n       [-1.25      ]])"
     },
     "execution_count": 10,
     "metadata": {},
     "output_type": "execute_result"
    }
   ],
   "source": [
    "square_minimizer = SquaresMinimizer()\n",
    "square_minimizer.fit(matrix_a, matrix_b)\n",
    "square_minimizer.solve(8)"
   ],
   "metadata": {
    "collapsed": false,
    "ExecuteTime": {
     "end_time": "2023-11-17T08:23:34.749454279Z",
     "start_time": "2023-11-17T08:23:34.544615593Z"
    }
   },
   "id": "34001c84feebe827"
  }
 ],
 "metadata": {
  "kernelspec": {
   "display_name": "Python 3",
   "language": "python",
   "name": "python3"
  },
  "language_info": {
   "codemirror_mode": {
    "name": "ipython",
    "version": 2
   },
   "file_extension": ".py",
   "mimetype": "text/x-python",
   "name": "python",
   "nbconvert_exporter": "python",
   "pygments_lexer": "ipython2",
   "version": "2.7.6"
  }
 },
 "nbformat": 4,
 "nbformat_minor": 5
}
