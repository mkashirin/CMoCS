{
 "cells": [
  {
   "cell_type": "markdown",
   "source": [
    "# Дисциплина: КМСС\n",
    "\n",
    "# Практика №5"
   ],
   "metadata": {
    "collapsed": false
   },
   "id": "3021e1fdb3b353e4"
  },
  {
   "cell_type": "markdown",
   "source": [
    "### Задание\n",
    "\n",
    "Напишите программы с использованием Python или C# для решения\n",
    "следующих задач."
   ],
   "metadata": {
    "collapsed": false
   },
   "id": "bf4f90ad7c458a16"
  },
  {
   "cell_type": "code",
   "execution_count": 1,
   "outputs": [
    {
     "ename": "ModuleNotFoundError",
     "evalue": "No module named 'exceptions'",
     "output_type": "error",
     "traceback": [
      "\u001B[0;31m---------------------------------------------------------------------------\u001B[0m",
      "\u001B[0;31mModuleNotFoundError\u001B[0m                       Traceback (most recent call last)",
      "Cell \u001B[0;32mIn[1], line 3\u001B[0m\n\u001B[1;32m      1\u001B[0m \u001B[38;5;28;01mimport\u001B[39;00m \u001B[38;5;21;01mnumpy\u001B[39;00m \u001B[38;5;28;01mas\u001B[39;00m \u001B[38;5;21;01mnp\u001B[39;00m\n\u001B[0;32m----> 3\u001B[0m \u001B[38;5;28;01mfrom\u001B[39;00m \u001B[38;5;21;01mCMoCSm\u001B[39;00m\u001B[38;5;21;01m.\u001B[39;00m\u001B[38;5;21;01mSoLE\u001B[39;00m\u001B[38;5;21;01m.\u001B[39;00m\u001B[38;5;21;01msolvers\u001B[39;00m \u001B[38;5;28;01mimport\u001B[39;00m GaussianEliminator\n\u001B[1;32m      4\u001B[0m \u001B[38;5;28;01mfrom\u001B[39;00m \u001B[38;5;21;01mCMoCSm\u001B[39;00m\u001B[38;5;21;01m.\u001B[39;00m\u001B[38;5;21;01mSoLE\u001B[39;00m\u001B[38;5;21;01m.\u001B[39;00m\u001B[38;5;21;01msolvers\u001B[39;00m \u001B[38;5;28;01mimport\u001B[39;00m SquaresMinimizer\n",
      "File \u001B[0;32m~/Projects/DataspellProjects/CMoCS/CMoCSm/SoLE/solvers.py:13\u001B[0m\n\u001B[1;32m     10\u001B[0m \u001B[38;5;28;01mfrom\u001B[39;00m \u001B[38;5;21;01mabc\u001B[39;00m \u001B[38;5;28;01mimport\u001B[39;00m ABC\n\u001B[1;32m     11\u001B[0m \u001B[38;5;28;01mfrom\u001B[39;00m \u001B[38;5;21;01mabc\u001B[39;00m \u001B[38;5;28;01mimport\u001B[39;00m abstractmethod\n\u001B[0;32m---> 13\u001B[0m \u001B[38;5;28;01mfrom\u001B[39;00m \u001B[38;5;21;01mexceptions\u001B[39;00m \u001B[38;5;28;01mimport\u001B[39;00m LinearAlgebraError\n\u001B[1;32m     16\u001B[0m \u001B[38;5;28;01mclass\u001B[39;00m \u001B[38;5;21;01mSolver\u001B[39;00m(ABC):\n\u001B[1;32m     17\u001B[0m     \u001B[38;5;28;01mdef\u001B[39;00m \u001B[38;5;21m__init__\u001B[39m(\u001B[38;5;28mself\u001B[39m):\n",
      "\u001B[0;31mModuleNotFoundError\u001B[0m: No module named 'exceptions'"
     ]
    }
   ],
   "source": [
    "import numpy as np\n",
    "\n",
    "from CMoCSm.SoLE.solvers import GaussianEliminator\n",
    "from CMoCSm.SoLE.solvers import SquaresMinimizer"
   ],
   "metadata": {
    "collapsed": false,
    "ExecuteTime": {
     "end_time": "2023-11-17T08:14:18.365326565Z",
     "start_time": "2023-11-17T08:14:18.062462687Z"
    }
   },
   "id": "b4c99574afb9b3b2"
  },
  {
   "cell_type": "markdown",
   "source": [
    "#### Задача 1\n",
    "\n",
    "Решить систему (1) линейных алгебраических уравнений методом Гаусса\n",
    "(схема единственного деления).\n",
    "\n",
    "$$ \\begin{equation} \\left\\{ \\begin{array}{}{}{} 2x_1 + x_2 + 4x_3 = 16; &\\\\ 3x_1 + 2x_2 + x_3 = 10; &\\\\ x_1 + 3x_2 + 3x_3 = 16. \\end{array} \\right. (1) \\end{equation} $$\n",
    "##### _Примечание_\n",
    "_Для решения этой задачи реализуем тот метод, который требуется использовать в следующей задачи. Ведь разница между ними в том, что настоящий метод подвержен `ZeroDevisionError`._"
   ],
   "metadata": {
    "collapsed": false
   },
   "id": "699ce19d71346507"
  },
  {
   "cell_type": "code",
   "execution_count": null,
   "outputs": [],
   "source": [
    "matrix_a = np.array(\n",
    "    [\n",
    "        [2, 1, 4],\n",
    "        [3, 2, 1],\n",
    "        [1, 3, 3]\n",
    "    ]\n",
    ")\n",
    "matrix_b = np.array(\n",
    "    [\n",
    "        [16],\n",
    "        [10],\n",
    "        [16]\n",
    "    ]\n",
    ")"
   ],
   "metadata": {
    "collapsed": false,
    "ExecuteTime": {
     "start_time": "2023-11-17T08:14:18.366548148Z"
    }
   },
   "id": "32ea521b7d0a015b"
  },
  {
   "cell_type": "code",
   "execution_count": null,
   "outputs": [],
   "source": [
    "np.linalg.solve(matrix_a, matrix_b)"
   ],
   "metadata": {
    "collapsed": false,
    "ExecuteTime": {
     "start_time": "2023-11-17T08:14:18.367835151Z"
    }
   },
   "id": "753c7e1636591e12"
  },
  {
   "cell_type": "markdown",
   "source": [
    "##### Альтернативное решение"
   ],
   "metadata": {
    "collapsed": false
   },
   "id": "39d6f52daa9722d3"
  },
  {
   "cell_type": "code",
   "execution_count": null,
   "outputs": [],
   "source": [
    "gaussian_eliminator = GaussianEliminator()\n",
    "gaussian_eliminator.fit(matrix_a, matrix_b)\n",
    "gaussian_eliminator.solve(3)"
   ],
   "metadata": {
    "collapsed": false,
    "ExecuteTime": {
     "start_time": "2023-11-17T08:14:18.414461482Z"
    }
   },
   "id": "736c6e13292186f1"
  },
  {
   "cell_type": "markdown",
   "source": [
    "#### Задача 2\n",
    "[Методом Гаусса с выбором ведущего элемента по столбцам](https://textbooks.math.gatech.edu/ila/row-reduction.html) решить систему (2).\n",
    "\n",
    "$$ \\begin{equation} \\left\\{ \\begin{array}{}{}{} -3x_1 + 2,099x_2 + 6x_3 = 3,901; &\\\\ 10x_1 - 7x_2 + 0x_3 = 7; &\\\\ 5x_1 - x_2 + 5x_3 = 6. \\end{array} \\right. (2) \\end{equation} $$"
   ],
   "metadata": {
    "collapsed": false
   },
   "id": "f68f9cb3b47bf857"
  },
  {
   "cell_type": "code",
   "execution_count": null,
   "outputs": [],
   "source": [
    "matrix_a = np.array(\n",
    "    [\n",
    "        [-3, 2.099, 6],\n",
    "        [10, -7, 0],\n",
    "        [5, -1, 5]\n",
    "    ]\n",
    ")\n",
    "matrix_b = np.array(\n",
    "    [\n",
    "        [3.901],\n",
    "        [7],\n",
    "        [6]\n",
    "    ]\n",
    ")"
   ],
   "metadata": {
    "collapsed": false,
    "ExecuteTime": {
     "start_time": "2023-11-17T08:14:18.414658804Z"
    }
   },
   "id": "aa16acfddd0adc9e"
  },
  {
   "cell_type": "code",
   "execution_count": null,
   "outputs": [],
   "source": [
    "np.linalg.solve(matrix_a, matrix_b)"
   ],
   "metadata": {
    "collapsed": false,
    "ExecuteTime": {
     "start_time": "2023-11-17T08:14:18.414746435Z"
    }
   },
   "id": "2ddf52c7b9458d4f"
  },
  {
   "cell_type": "markdown",
   "source": [
    "##### Альтернативное решение"
   ],
   "metadata": {
    "collapsed": false
   },
   "id": "b2521b485738b566"
  },
  {
   "cell_type": "code",
   "execution_count": null,
   "outputs": [],
   "source": [
    "gaussian_eliminator = GaussianEliminator()\n",
    "gaussian_eliminator.fit(matrix_a, matrix_b)\n",
    "gaussian_eliminator.solve(3)"
   ],
   "metadata": {
    "collapsed": false,
    "ExecuteTime": {
     "start_time": "2023-11-17T08:14:18.414819705Z"
    }
   },
   "id": "9abaa35b6cc64f09"
  },
  {
   "cell_type": "markdown",
   "source": [
    "#### Задача 3\n",
    "Решить систему уравнений (3) методом Гаусса единственного деления.\n",
    "\n",
    "$$ \\begin{equation} \\left\\{ \\begin{array}{}{}{} x_1 - x_2 + x_3 - 4x_4 = -2; &\\\\ 8x_1 - x_2 - x_3 + 2x_4 = 11; &\\\\ x_1 + 6x_2 - 2x_3 - 2x_4 = 6. \\end{array} \\right. (3) \\end{equation} $$\n",
    "\n",
    "##### Примечание\n",
    "_Намного проще реализовать [метод наименьших квадратов](https://textbooks.math.gatech.edu/ila/least-squares.html), который в своей основе имеет как раз метод исключения Гаусса с выбором ведущего элемента по столбцам. По этой причине воспользуемся методом наименьших квадратов._"
   ],
   "metadata": {
    "collapsed": false
   },
   "id": "9546141a511964da"
  },
  {
   "cell_type": "code",
   "execution_count": null,
   "outputs": [],
   "source": [
    "matrix_a = np.array(\n",
    "    [\n",
    "        [1, -1, 1, 4],\n",
    "        [8, -1, -1, 2],\n",
    "        [1, 6, -2, -2]\n",
    "    ]\n",
    ")\n",
    "matrix_b = np.array(\n",
    "    [\n",
    "        [-2],\n",
    "        [11],\n",
    "        [-7]\n",
    "    ]\n",
    ")"
   ],
   "metadata": {
    "collapsed": false,
    "ExecuteTime": {
     "start_time": "2023-11-17T08:14:18.414890476Z"
    }
   },
   "id": "181884f9e17cdd87"
  },
  {
   "cell_type": "code",
   "execution_count": null,
   "outputs": [],
   "source": [
    "np.linalg.lstsq(matrix_a, matrix_b, rcond=None)"
   ],
   "metadata": {
    "collapsed": false,
    "ExecuteTime": {
     "end_time": "2023-11-17T08:14:18.430316558Z",
     "start_time": "2023-11-17T08:14:18.414958037Z"
    }
   },
   "id": "17f8aad3f5c781b8"
  },
  {
   "cell_type": "markdown",
   "source": [
    "##### Альтернативное решение"
   ],
   "metadata": {
    "collapsed": false
   },
   "id": "e9164ac5ab27bd16"
  },
  {
   "cell_type": "code",
   "execution_count": null,
   "outputs": [],
   "source": [
    "square_minimizer = SquaresMinimizer()\n",
    "square_minimizer.fit(matrix_a, matrix_b)\n",
    "square_minimizer.solve(8)"
   ],
   "metadata": {
    "collapsed": false,
    "ExecuteTime": {
     "start_time": "2023-11-17T08:14:18.415026468Z"
    }
   },
   "id": "34001c84feebe827"
  }
 ],
 "metadata": {
  "kernelspec": {
   "display_name": "Python 3",
   "language": "python",
   "name": "python3"
  },
  "language_info": {
   "codemirror_mode": {
    "name": "ipython",
    "version": 2
   },
   "file_extension": ".py",
   "mimetype": "text/x-python",
   "name": "python",
   "nbconvert_exporter": "python",
   "pygments_lexer": "ipython2",
   "version": "2.7.6"
  }
 },
 "nbformat": 4,
 "nbformat_minor": 5
}
