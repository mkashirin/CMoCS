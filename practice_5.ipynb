{
 "cells": [
  {
   "cell_type": "markdown",
   "source": [
    "# Дисциплина: КМСС\n",
    "\n",
    "# Практика №5"
   ],
   "metadata": {
    "collapsed": false
   },
   "id": "b75159b3e32b09d2"
  },
  {
   "cell_type": "markdown",
   "source": [
    "### Задание\n",
    "\n",
    "Напишите программы с использованием Python или C# для решения следующих задач."
   ],
   "metadata": {
    "collapsed": false
   },
   "id": "cf689e9450f98f09"
  },
  {
   "cell_type": "code",
   "execution_count": 1,
   "id": "initial_id",
   "metadata": {
    "collapsed": true,
    "ExecuteTime": {
     "end_time": "2023-11-19T09:47:08.149030796Z",
     "start_time": "2023-11-19T09:47:08.131923158Z"
    }
   },
   "outputs": [],
   "source": [
    "import numpy as np\n",
    "\n",
    "from CMoCSm.SoLE.solvers import GaussianEliminationSolver\n",
    "from CMoCSm.SoLE.solvers import LeastSquaresSolver"
   ]
  },
  {
   "cell_type": "markdown",
   "source": [
    "#### Задача 1\n",
    "\n",
    "Решить систему (1) линейных алгебраических уравнений методом Гаусса (схема единственного деления).\n",
    "\n",
    "$$ \\begin{equation} \\left\\{ \\begin{array}{}{}{} 2x_1 + x_2 + 4x_3 = 16; &\\\\ 3x_1 + 2x_2 + x_3 = 10; &\\\\ x_1 + 3x_2 + 3x_3 = 16. \\end{array} \\right. (1) \\end{equation} $$\n",
    "\n",
    "##### Примечание\n",
    "\n",
    "_Для решения этой задачи реализуем тот метод, который требуется использовать в следующей задачи. Ведь разница между ними в том, что настоящий метод подвержен `ZeroDevisionError`._"
   ],
   "metadata": {
    "collapsed": false
   },
   "id": "5c266642d5f89209"
  },
  {
   "cell_type": "code",
   "execution_count": 2,
   "outputs": [],
   "source": [
    "matrix_a = np.array(\n",
    "    [\n",
    "        [2, 1, 4],\n",
    "        [3, 2, 1],\n",
    "        [1, 3, 3]\n",
    "    ]\n",
    ")\n",
    "matrix_b = np.array(\n",
    "    [\n",
    "        [16],\n",
    "        [10],\n",
    "        [16]\n",
    "    ]\n",
    ")"
   ],
   "metadata": {
    "collapsed": false,
    "ExecuteTime": {
     "end_time": "2023-11-19T09:47:08.539020214Z",
     "start_time": "2023-11-19T09:47:08.147242749Z"
    }
   },
   "id": "ab04fe3e283c3412"
  },
  {
   "cell_type": "code",
   "execution_count": 3,
   "outputs": [
    {
     "data": {
      "text/plain": "array([[1.],\n       [2.],\n       [3.]])"
     },
     "execution_count": 3,
     "metadata": {},
     "output_type": "execute_result"
    }
   ],
   "source": [
    "np.linalg.solve(matrix_a, matrix_b)"
   ],
   "metadata": {
    "collapsed": false,
    "ExecuteTime": {
     "end_time": "2023-11-19T09:47:09.460093105Z",
     "start_time": "2023-11-19T09:47:08.540177745Z"
    }
   },
   "id": "4eb4ecd54ec28c15"
  },
  {
   "cell_type": "markdown",
   "source": [
    "##### Альтернативное решение"
   ],
   "metadata": {
    "collapsed": false
   },
   "id": "7612b4a165f62aa2"
  },
  {
   "cell_type": "code",
   "execution_count": 4,
   "outputs": [
    {
     "data": {
      "text/plain": "array([[1.],\n       [2.],\n       [3.]])"
     },
     "execution_count": 4,
     "metadata": {},
     "output_type": "execute_result"
    }
   ],
   "source": [
    "ges = GaussianEliminationSolver()\n",
    "ges.fit(matrix_a, matrix_b)\n",
    "ges.solve(3)"
   ],
   "metadata": {
    "collapsed": false,
    "ExecuteTime": {
     "end_time": "2023-11-19T09:47:09.542441203Z",
     "start_time": "2023-11-19T09:47:09.459622310Z"
    }
   },
   "id": "60aee5253313751c"
  },
  {
   "cell_type": "markdown",
   "source": [
    "#### Задача \n",
    "\n",
    "[Методом Гаусса с выбором ведущего элемента по столбцам](https://textbooks.math.gatech.edu/ila/row-reduction.html) решить систему (2).\n",
    "\n",
    "$$ \\begin{equation} \\left\\{ \\begin{array}{}{}{} -3x_1 + 2,099x_2 + 6x_3 = 3,901; &\\\\ 10x_1 - 7x_2 + 0x_3 = 7; &\\\\ 5x_1 - x_2 + 5x_3 = 6. \\end{array} \\right. (2) \\end{equation} $$"
   ],
   "metadata": {
    "collapsed": false
   },
   "id": "5ca281bc39af0168"
  },
  {
   "cell_type": "code",
   "execution_count": 5,
   "outputs": [],
   "source": [
    "matrix_a = np.array(\n",
    "    [\n",
    "        [-3, 2.099, 6],\n",
    "        [10, -7, 0],\n",
    "        [5, -1, 5]\n",
    "    ]\n",
    ")\n",
    "matrix_b = np.array(\n",
    "    [\n",
    "        [3.901],\n",
    "        [7],\n",
    "        [6]\n",
    "    ]\n",
    ")"
   ],
   "metadata": {
    "collapsed": false,
    "ExecuteTime": {
     "end_time": "2023-11-19T09:47:09.750778418Z",
     "start_time": "2023-11-19T09:47:09.542649355Z"
    }
   },
   "id": "2ae27170477c10a3"
  },
  {
   "cell_type": "code",
   "execution_count": 6,
   "outputs": [
    {
     "data": {
      "text/plain": "array([[ 0.],\n       [-1.],\n       [ 1.]])"
     },
     "execution_count": 6,
     "metadata": {},
     "output_type": "execute_result"
    }
   ],
   "source": [
    "np.linalg.solve(matrix_a, matrix_b)"
   ],
   "metadata": {
    "collapsed": false,
    "ExecuteTime": {
     "end_time": "2023-11-19T09:47:09.848762150Z",
     "start_time": "2023-11-19T09:47:09.751324764Z"
    }
   },
   "id": "14306793708c2b10"
  },
  {
   "cell_type": "markdown",
   "source": [
    "##### Альтернативное решение"
   ],
   "metadata": {
    "collapsed": false
   },
   "id": "511eb60161c8b72a"
  },
  {
   "cell_type": "code",
   "execution_count": 7,
   "outputs": [
    {
     "data": {
      "text/plain": "array([[ 0.],\n       [-1.],\n       [ 1.]])"
     },
     "execution_count": 7,
     "metadata": {},
     "output_type": "execute_result"
    }
   ],
   "source": [
    "ges = GaussianEliminationSolver()\n",
    "ges.fit(matrix_a, matrix_b)\n",
    "ges.solve(3)"
   ],
   "metadata": {
    "collapsed": false,
    "ExecuteTime": {
     "end_time": "2023-11-19T09:47:09.944203436Z",
     "start_time": "2023-11-19T09:47:09.848399536Z"
    }
   },
   "id": "e1491db4046627c3"
  },
  {
   "cell_type": "markdown",
   "source": [
    "#### Задача 3\n",
    "\n",
    "Решить систему уравнений (3) методом Гаусса единственного деления.\n",
    "\n",
    "$$ \\begin{equation} \\left\\{ \\begin{array}{}{}{} x_1 - x_2 + x_3 - 4x_4 = -2; &\\\\ 8x_1 - x_2 - x_3 + 2x_4 = 11; &\\\\ x_1 + 6x_2 - 2x_3 - 2x_4 = 6. \\end{array} \\right. (3) \\end{equation} $$\n",
    "\n",
    "##### Примечание\n",
    "\n",
    "_Намного проще реализовать [метод наименьших квадратов](https://textbooks.math.gatech.edu/ila/least-squares.html), который в своей основе имеет как раз метод исключения Гаусса с выбором ведущего элемента по столбцам. По этой причине воспользуемся методом наименьших квадратов._"
   ],
   "metadata": {
    "collapsed": false
   },
   "id": "5b6151bb56ee72c7"
  },
  {
   "cell_type": "code",
   "execution_count": 8,
   "outputs": [],
   "source": [
    "matrix_a = np.array(\n",
    "    [\n",
    "        [1, -1, 1, 4],\n",
    "        [8, -1, -1, 2],\n",
    "        [1, 6, -2, -2]\n",
    "    ]\n",
    ")\n",
    "matrix_b = np.array(\n",
    "    [\n",
    "        [-2],\n",
    "        [11],\n",
    "        [-7]\n",
    "    ]\n",
    ")"
   ],
   "metadata": {
    "collapsed": false,
    "ExecuteTime": {
     "end_time": "2023-11-19T09:47:10.098771413Z",
     "start_time": "2023-11-19T09:47:09.944113856Z"
    }
   },
   "id": "fc905b201b7042c4"
  },
  {
   "cell_type": "code",
   "execution_count": 9,
   "outputs": [
    {
     "data": {
      "text/plain": "(array([[ 1.42946593],\n        [-1.9038674 ],\n        [-0.21804788],\n        [-1.27882136]]),\n array([], dtype=float64),\n 3,\n array([8.67440198, 7.07918966, 2.93935776]))"
     },
     "execution_count": 9,
     "metadata": {},
     "output_type": "execute_result"
    }
   ],
   "source": [
    "np.linalg.lstsq(matrix_a, matrix_b, rcond=None)"
   ],
   "metadata": {
    "collapsed": false,
    "ExecuteTime": {
     "end_time": "2023-11-19T09:47:10.522710225Z",
     "start_time": "2023-11-19T09:47:10.099194427Z"
    }
   },
   "id": "388fd1015a7ea433"
  },
  {
   "cell_type": "markdown",
   "source": [
    "##### Альтернативное решение"
   ],
   "metadata": {
    "collapsed": false
   },
   "id": "ff2e587e28824410"
  },
  {
   "cell_type": "code",
   "execution_count": 10,
   "outputs": [
    {
     "data": {
      "text/plain": "array([[ 1.4047619 ],\n       [-1.92857143],\n       [-0.33333333],\n       [-1.25      ]])"
     },
     "execution_count": 10,
     "metadata": {},
     "output_type": "execute_result"
    }
   ],
   "source": [
    "lss = LeastSquaresSolver()\n",
    "lss.fit(matrix_a, matrix_b)\n",
    "lss.solve(8)"
   ],
   "metadata": {
    "collapsed": false,
    "ExecuteTime": {
     "end_time": "2023-11-19T09:47:10.590404839Z",
     "start_time": "2023-11-19T09:47:10.467995667Z"
    }
   },
   "id": "81cb0d0ddc418d27"
  }
 ],
 "metadata": {
  "kernelspec": {
   "display_name": "Python 3",
   "language": "python",
   "name": "python3"
  },
  "language_info": {
   "codemirror_mode": {
    "name": "ipython",
    "version": 2
   },
   "file_extension": ".py",
   "mimetype": "text/x-python",
   "name": "python",
   "nbconvert_exporter": "python",
   "pygments_lexer": "ipython2",
   "version": "2.7.6"
  }
 },
 "nbformat": 4,
 "nbformat_minor": 5
}
