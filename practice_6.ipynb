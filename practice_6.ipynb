{
 "cells": [
  {
   "cell_type": "markdown",
   "source": [
    "# Дисциплина: КМСС\n",
    "# Практика №6"
   ],
   "metadata": {
    "collapsed": false
   },
   "id": "db482e784530905"
  },
  {
   "cell_type": "markdown",
   "source": [
    "### Задание\n",
    "\n",
    "Напишите программы с использованием Python или C# для решения\n",
    "следующих задач."
   ],
   "metadata": {
    "collapsed": false
   },
   "id": "97e73c677786bb20"
  },
  {
   "cell_type": "code",
   "execution_count": 1,
   "outputs": [],
   "source": [
    "import numpy as np\n",
    "\n",
    "from CMoCSm.SoLE.solvers import TridiagonalMatrixSolver"
   ],
   "metadata": {
    "collapsed": false,
    "ExecuteTime": {
     "end_time": "2023-11-17T20:48:07.420948712Z",
     "start_time": "2023-11-17T20:48:07.420691879Z"
    }
   },
   "id": "6cd2ed33b65b2950"
  },
  {
   "cell_type": "markdown",
   "source": [
    "#### Задача 1\n",
    "\n",
    "Дана система линейных алгебраических уравнений (1) с [трёхдиагональной матрицей](https://en.wikipedia.org/wiki/Tridiagonal_matrix) $(n = 4)$.\n",
    "\n",
    "$$ \\begin{equation} \\left\\{ \\begin{array}{}{}{}{} 5x_1 + 3x_2 = 8; &\\\\ 3x_1 + 6x_2 + x_3 = 10; &\\\\ x_2 - 4x_3 + 2x_4 = 3; &\\\\ x_3 - 3x_4 = -2. \\end{array} \\right. (1) \\end{equation} $$\n",
    "\n",
    "Решить эту систему методом [прогонки](https://en.wikipedia.org/wiki/Tridiagonal_matrix_algorithm)."
   ],
   "metadata": {
    "collapsed": false
   },
   "id": "8b2d5c28db899e5b"
  },
  {
   "cell_type": "code",
   "execution_count": 2,
   "id": "initial_id",
   "metadata": {
    "collapsed": true,
    "ExecuteTime": {
     "end_time": "2023-11-17T20:48:07.562476156Z",
     "start_time": "2023-11-17T20:48:07.420845601Z"
    }
   },
   "outputs": [],
   "source": [
    "matrix_a = np.array(\n",
    "    [\n",
    "        [5, 3, 0, 0],\n",
    "        [3, 6, 1, 0],\n",
    "        [0, 1, 4, -2],\n",
    "        [0, 0, 1, -3],\n",
    "    ]\n",
    ")\n",
    "matrix_b = np.array(\n",
    "    [\n",
    "        [8],\n",
    "        [10],\n",
    "        [3],\n",
    "        [-2],\n",
    "    ]\n",
    ")"
   ]
  },
  {
   "cell_type": "code",
   "execution_count": 3,
   "outputs": [
    {
     "data": {
      "text/plain": "array([[1.],\n       [1.],\n       [1.],\n       [1.]])"
     },
     "execution_count": 3,
     "metadata": {},
     "output_type": "execute_result"
    }
   ],
   "source": [
    "tms = TridiagonalMatrixSolver()\n",
    "tms.fit(matrix_a, matrix_b)\n",
    "tms.solve(3)"
   ],
   "metadata": {
    "collapsed": false,
    "ExecuteTime": {
     "end_time": "2023-11-17T20:48:07.763776152Z",
     "start_time": "2023-11-17T20:48:07.563281145Z"
    }
   },
   "id": "16475c3f0d5f3088"
  },
  {
   "cell_type": "markdown",
   "source": [
    "#### Задача 2\n",
    "\n",
    "Дана система линейных алгебраических уравнений (2) с трёхдиагональной\n",
    "матрицей, решить систему методом прогонки.\n",
    "\n",
    "$$ \\begin{equation} \\left\\{ \\begin{array}{}{}{}{} x_1 + x_2 = 5; &\\\\ 2x_1 - x_2 + x_3 = 3; &\\\\ x_2 - x_3 + x_4 = 3; &\\\\ x_3 - x_4 = 7. \\end{array} \\right. (2) \\end{equation} $$"
   ],
   "metadata": {
    "collapsed": false
   },
   "id": "b4cd6245cf71bb8c"
  },
  {
   "cell_type": "code",
   "execution_count": 4,
   "outputs": [],
   "source": [
    "matrix_a = np.array(\n",
    "    [\n",
    "        [1, 2, 0, 0],\n",
    "        [2, -1, 1, 0],\n",
    "        [0, 1, -1, 1],\n",
    "        [0, 0, 1, 1],\n",
    "    ]\n",
    ")\n",
    "matrix_b = np.array(\n",
    "    [\n",
    "        [5],\n",
    "        [3],\n",
    "        [3],\n",
    "        [7],\n",
    "    ]\n",
    ")"
   ],
   "metadata": {
    "collapsed": false,
    "ExecuteTime": {
     "end_time": "2023-11-17T20:48:07.858980118Z",
     "start_time": "2023-11-17T20:48:07.765208229Z"
    }
   },
   "id": "23ba771fde1277ac"
  },
  {
   "cell_type": "code",
   "execution_count": 5,
   "outputs": [
    {
     "data": {
      "text/plain": "array([[1.],\n       [2.],\n       [3.],\n       [4.]])"
     },
     "execution_count": 5,
     "metadata": {},
     "output_type": "execute_result"
    }
   ],
   "source": [
    "tms = TridiagonalMatrixSolver()\n",
    "tms.fit(matrix_a, matrix_b)\n",
    "tms.solve(3)"
   ],
   "metadata": {
    "collapsed": false,
    "ExecuteTime": {
     "end_time": "2023-11-17T20:48:07.996748146Z",
     "start_time": "2023-11-17T20:48:07.859905049Z"
    }
   },
   "id": "ce179393fe5dc91b"
  },
  {
   "cell_type": "markdown",
   "source": [
    "#### Задача 2\n",
    "\n",
    "Решить методом прогонки систему уравнений (3).\n",
    "\n",
    "$$ \\begin{equation} \\left\\{ \\begin{array}{}{}{}{} 2x_1 + x_2 = 4; &\\\\ 2x_1 + 3x_2 - x_3 = 9; &\\\\ x_2 - x_3 + 3x_4 = 12; &\\\\ x_3 - x_4 = -4. \\end{array} \\right. (3) \\end{equation} $$"
   ],
   "metadata": {
    "collapsed": false
   },
   "id": "268a1efae66c779f"
  },
  {
   "cell_type": "code",
   "execution_count": 6,
   "outputs": [],
   "source": [
    "matrix_a = np.array(\n",
    "    [\n",
    "        [2, 1, 0, 0],\n",
    "        [2, 3, -1, 0],\n",
    "        [0, 1, -1, 3],\n",
    "        [0, 0, 1, -1],\n",
    "    ]\n",
    ")\n",
    "matrix_b = np.array(\n",
    "    [\n",
    "        [4],\n",
    "        [9],\n",
    "        [12],\n",
    "        [-4],\n",
    "    ]\n",
    ")"
   ],
   "metadata": {
    "collapsed": false,
    "ExecuteTime": {
     "end_time": "2023-11-17T20:48:08.111860286Z",
     "start_time": "2023-11-17T20:48:07.996660615Z"
    }
   },
   "id": "dcd1e42634b18d17"
  },
  {
   "cell_type": "code",
   "execution_count": 7,
   "outputs": [
    {
     "data": {
      "text/plain": "array([[ 1.],\n       [ 2.],\n       [-1.],\n       [ 3.]])"
     },
     "execution_count": 7,
     "metadata": {},
     "output_type": "execute_result"
    }
   ],
   "source": [
    "tms = TridiagonalMatrixSolver()\n",
    "tms.fit(matrix_a, matrix_b)\n",
    "tms.solve(3)"
   ],
   "metadata": {
    "collapsed": false,
    "ExecuteTime": {
     "end_time": "2023-11-17T20:48:08.207273215Z",
     "start_time": "2023-11-17T20:48:08.112259701Z"
    }
   },
   "id": "8957d57ff415b9e6"
  }
 ],
 "metadata": {
  "kernelspec": {
   "display_name": "Python 3",
   "language": "python",
   "name": "python3"
  },
  "language_info": {
   "codemirror_mode": {
    "name": "ipython",
    "version": 2
   },
   "file_extension": ".py",
   "mimetype": "text/x-python",
   "name": "python",
   "nbconvert_exporter": "python",
   "pygments_lexer": "ipython2",
   "version": "2.7.6"
  }
 },
 "nbformat": 4,
 "nbformat_minor": 5
}
